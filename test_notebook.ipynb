{
 "cells": [
  {
   "cell_type": "code",
   "execution_count": 7,
   "metadata": {},
   "outputs": [
    {
     "ename": "ModuleNotFoundError",
     "evalue": "No module named 'pattern_preserving'",
     "output_type": "error",
     "traceback": [
      "\u001b[0;31m---------------------------------------------------------------------------\u001b[0m",
      "\u001b[0;31mModuleNotFoundError\u001b[0m                       Traceback (most recent call last)",
      "\u001b[0;32m<ipython-input-7-594f59f6d7fe>\u001b[0m in \u001b[0;36m<module>\u001b[0;34m\u001b[0m\n\u001b[1;32m      3\u001b[0m \u001b[0;32mimport\u001b[0m \u001b[0msys\u001b[0m\u001b[0;34m\u001b[0m\u001b[0;34m\u001b[0m\u001b[0m\n\u001b[1;32m      4\u001b[0m \u001b[0msys\u001b[0m\u001b[0;34m.\u001b[0m\u001b[0mpath\u001b[0m\u001b[0;34m.\u001b[0m\u001b[0mappend\u001b[0m\u001b[0;34m(\u001b[0m\u001b[0;34m'~/Documents/projects/'\u001b[0m\u001b[0;34m)\u001b[0m\u001b[0;34m\u001b[0m\u001b[0;34m\u001b[0m\u001b[0m\n\u001b[0;32m----> 5\u001b[0;31m \u001b[0;32mfrom\u001b[0m \u001b[0mpattern_preserving\u001b[0m \u001b[0;32mimport\u001b[0m \u001b[0mSimplePPEncoder\u001b[0m\u001b[0;34m\u001b[0m\u001b[0;34m\u001b[0m\u001b[0m\n\u001b[0m",
      "\u001b[0;31mModuleNotFoundError\u001b[0m: No module named 'pattern_preserving'"
     ]
    }
   ],
   "source": [
    "import numpy as np\n",
    "import pandas as pd\n",
    "import sys\n",
    "sys.path.append('~/Documents/projects/')\n",
    "from pattern_preserving import SimplePPEncoder"
   ]
  },
  {
   "cell_type": "code",
   "execution_count": 2,
   "metadata": {},
   "outputs": [
    {
     "name": "stdout",
     "output_type": "stream",
     "text": [
      "Original dataset\n",
      " [['x' 0.4 0.7 'a' -1]\n",
      " ['y' 0.1 0.9 'b' 0]\n",
      " ['x' 0.2 0.83 'b' 1]\n",
      " ['x' 0.14 0.78 'b' 0]]\n",
      "Encoded dataset\n",
      " [[ 0.75823956  0.4         0.7         0.37298879 -1.        ]\n",
      " [ 0.80719597  0.1         0.9         0.26626775  0.        ]\n",
      " [ 0.75823956  0.2         0.83        0.26626775  1.        ]\n",
      " [ 0.75823956  0.14        0.78        0.26626775  0.        ]]\n"
     ]
    }
   ],
   "source": [
    "# Example dataset\n",
    "X = pd.DataFrame([['x',0.4,0.7,'a'],['y',0.1,0.9,'b'], ['x',0.2,0.83,'b'], ['x',0.14,0.78,'b']])\n",
    "y = pd.Series([-1, 0, 1,0])\n",
    "\n",
    "# Load encoder, fit_transform X\n",
    "enc =  GeneticPPEncoder(estimator_name='LinearRegression', num_predictors=2)\n",
    "X_enc = enc.fit_transform(X,y)\n",
    "\n",
    "# Print datasets\n",
    "print('Original dataset\\n', pd.concat((X,y),axis=1).values)\n",
    "print('Encoded dataset\\n', pd.concat((X_enc,y),axis=1).values)"
   ]
  },
  {
   "cell_type": "code",
   "execution_count": 3,
   "metadata": {},
   "outputs": [
    {
     "data": {
      "image/png": "[encoded data removed]",
      "text/plain": [
       "<Figure size 1152x576 with 1 Axes>"
      ]
     },
     "metadata": {
      "needs_background": "light"
     },
     "output_type": "display_data"
    }
   ],
   "source": [
    "enc.plot_history()"
   ]
  }
 ],
 "metadata": {
  "kernelspec": {
   "display_name": "Python 3",
   "language": "python",
   "name": "python3"
  },
  "language_info": {
   "codemirror_mode": {
    "name": "ipython",
    "version": 3
   },
   "file_extension": ".py",
   "mimetype": "text/x-python",
   "name": "python",
   "nbconvert_exporter": "python",
   "pygments_lexer": "ipython3",
   "version": "3.7.1"
  }
 },
 "nbformat": 4,
 "nbformat_minor": 2
}
